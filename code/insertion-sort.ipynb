{
 "cells": [
  {
   "cell_type": "markdown",
   "metadata": {},
   "source": [
    "# Insertion Sort\n",
    "\n",
    "The insertion sort works by keeping the left subarray sorted while \n",
    "inserting elements from the right subarray into the left subarray \n",
    "at the correct ordered positions.\n",
    "\n",
    "                 <- i        j ->\n",
    "    +---------------------------------------------+\n",
    "    | sorted [1, 2, 3,   |   40, 15, 30] unsorted |\n",
    "    +---------------------------------------------+\n",
    "\n",
    "    where:\n",
    "    * j index of the first unsorted element)\n",
    "    * i index for elements in the sorted subarray starting at the rightmost)\n",
    "\n",
    "Example visualization:\n",
    "             \n",
    "    [34  |  18, 24, 108, 5, 2]\n",
    "    [18, 34  |  24, 108, 5, 2]\n",
    "    [18, 24, 34  |  108, 5, 2]\n",
    "    [18, 24, 34, 108  |  5, 2]\n",
    "    [5, 18, 24, 34, 108  |  2]\n",
    "    [2, 5, 18, 24, 34, 108  |]\n",
    "  \n",
    "Note that the following implementation does not use a swap as\n",
    "an optimization because when moving larger elements forward, \n",
    "the insertion sort does not need to insert the key being compared.\n",
    "The key is inserted only once.\n",
    "\n",
    "Insertion sort works best on:\n",
    "\n",
    "* small arrays (and therefore used as subordinate sort in quicksort for example)\n",
    "* partially sorted arrays (because it is adaptive)\n",
    "* lazily generated sequences of numbers (left subarray is sorted and right subarray is unsorted; it is an online algorithm)"
   ]
  },
  {
   "cell_type": "code",
   "execution_count": null,
   "metadata": {
    "collapsed": true
   },
   "outputs": [],
   "source": [
    "def insertion_sort(A):\n",
    "    \"\"\"insertion_sort performs an insertion sort in-place on an array A.\n",
    "    \n",
    "    Args:\n",
    "        A: The array that will be sorted in-place.\n",
    "    \"\"\"\n",
    "    for j in range(1, len(A)):        # first element is already in order\n",
    "        key = A[j]                    # save value of key element\n",
    "        i = j - 1                     # index of previous element\n",
    "        while i >= 0 and A[i] > key:  # while indexable and previous value is greater than key\n",
    "            A[i + 1] = A[i]           #     move the previous value one forward\n",
    "            i = i - 1                 #     look at the next previous element\n",
    "        A[i + 1] = key                # insert the key at the new position\n"
   ]
  },
  {
   "cell_type": "code",
   "execution_count": 26,
   "metadata": {
    "collapsed": true
   },
   "outputs": [],
   "source": [
    "a = [34, 18, 24, 108, 5, 2]"
   ]
  },
  {
   "cell_type": "code",
   "execution_count": 27,
   "metadata": {
    "collapsed": true
   },
   "outputs": [],
   "source": [
    "insertion_sort(a)"
   ]
  },
  {
   "cell_type": "code",
   "execution_count": 28,
   "metadata": {
    "collapsed": false
   },
   "outputs": [
    {
     "data": {
      "text/plain": [
       "[2, 5, 18, 24, 34, 108]"
      ]
     },
     "execution_count": 28,
     "metadata": {},
     "output_type": "execute_result"
    }
   ],
   "source": [
    "a"
   ]
  },
  {
   "cell_type": "markdown",
   "metadata": {},
   "source": [
    "#### Q: Can one use `j` instead of `i + 1` inside the while loop?\n",
    "\n",
    "No. The `i + 1` needs to be evaluated during every iteration of the loop.\n",
    "`j` simply indicates the index of the key being compared."
   ]
  },
  {
   "cell_type": "markdown",
   "metadata": {},
   "source": [
    "#### Q: Why do we start sorting at the second element in the array?\n",
    "\n",
    "The empty list `[]` and a single-element list `[a]` are already in order and can be assumed such."
   ]
  },
  {
   "cell_type": "markdown",
   "metadata": {},
   "source": [
    "#### Q: What happens when this routine is called on an empty array?\n",
    "Answer: It does nothing."
   ]
  },
  {
   "cell_type": "code",
   "execution_count": null,
   "metadata": {
    "collapsed": true
   },
   "outputs": [],
   "source": []
  }
 ],
 "metadata": {
  "kernelspec": {
   "display_name": "Python 2",
   "language": "python",
   "name": "python2"
  },
  "language_info": {
   "codemirror_mode": {
    "name": "ipython",
    "version": 2
   },
   "file_extension": ".py",
   "mimetype": "text/x-python",
   "name": "python",
   "nbconvert_exporter": "python",
   "pygments_lexer": "ipython2",
   "version": "2.7.6"
  }
 },
 "nbformat": 4,
 "nbformat_minor": 0
}
